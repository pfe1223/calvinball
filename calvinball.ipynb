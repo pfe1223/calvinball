{
 "cells": [
  {
   "cell_type": "markdown",
   "metadata": {},
   "source": [
    "# Calvinball\n",
    "\n",
    "This project calculates the records for each MLB team when playing by Calvinball rules: any extra inning game or seven-inning game. This project is based on the [pybaseball](https://pypi.org/project/pybaseball/) library."
   ]
  },
  {
   "cell_type": "markdown",
   "metadata": {},
   "source": [
    "## Imports\n",
    "\n",
    "In order for this script to work, you need to import the `pandas` library, `schedule_and_record` from `pybaseball`, and the various configurations of teams. Teams are represented by a list of strings."
   ]
  },
  {
   "cell_type": "code",
   "execution_count": 3,
   "metadata": {},
   "outputs": [],
   "source": [
    "import pandas as pd\n",
    "from pybaseball import schedule_and_record\n",
    "from teams import mlb, al, nl, al_east, al_central, al_west, nl_east, nl_central, nl_west"
   ]
  },
  {
   "cell_type": "markdown",
   "metadata": {},
   "source": [
    "## Functions\n",
    "\n",
    "Here are the functions used for the script."
   ]
  },
  {
   "cell_type": "markdown",
   "metadata": {},
   "source": [
    "### `process_teams`\n",
    "\n",
    "This function takes a list of teams. It then does the following things:\n",
    "* Creates an empty data frame with headers for `Team`, `Wins`, `Losses`, and `Win %`.\n",
    "* Iterate over each team in the list of teams.\n",
    "* Fetch the record for the team and rename the `W/L` column to `Rec`. **Note:** I had trouble filter this data frame with a header of `W/L`. I think the `/` caused a problem. I renamed the column to avoid this issue. If anybody has an explanation, I would be interested.\n",
    "* Create the variable `cb_games` which is a data frame that has just information for Calvinball games. See the explanation for the `filter_cb_games` function below.\n",
    "* Create the variable `cb_wins` which is the number of Calvinball wins. See the explanation for the `count_wins` function below.\n",
    "* Create the variable `cb_losses` which is the number of Calvinball losses. See the explanation for the `count_losses` function below.\n",
    "* Create the variable `cb_total` which represents the total number of Calvinball games played. It is calculated by finding the length of the `cb_games` data frame.\n",
    "* Create the `cb_win_percentage` variable which is the number of Calvinball wins divided by total Calvinball games.\n",
    "* Create the `cb_info` variable wich is a dictionary. The keys in the dictionary correspond to the headers in the `cb_records` data frame.\n",
    "* Finally, append the `cb_info` dictionary to the `cb_records` data frame. The information stored in the dictionary will be converted to a row in the data frame."
   ]
  },
  {
   "cell_type": "code",
   "execution_count": 4,
   "metadata": {},
   "outputs": [],
   "source": [
    "def process_teams(teams):\n",
    "    cb_records = pd.DataFrame(columns=['Team', 'Wins', 'Losses', 'Win %'])\n",
    "    for team in teams:\n",
    "        data = schedule_and_record(2021, team).rename(columns={\"W/L\" : \"Rec\"})\n",
    "        cb_games = filter_cb_games(data)\n",
    "        cb_wins = count_wins(cb_games)\n",
    "        cb_losses = count_losses(cb_games)\n",
    "        cb_total = len(cb_games)\n",
    "        cb_win_percentage = cb_wins / cb_total\n",
    "        cb_info = {'Team' : team, 'Wins' : cb_wins, 'Losses' : cb_losses, 'Win %' : cb_win_percentage}\n",
    "        cb_records = cb_records.append(cb_info, ignore_index=True)\n",
    "    return cb_records"
   ]
  },
  {
   "cell_type": "markdown",
   "metadata": {},
   "source": [
    "### `filter_cb_games`\n",
    "\n",
    "This method takes a data frame for a team's record so far, and returns a data frame with game information if the innings played are greater than 9 or equal to 7.\n",
    "\n",
    "**Note:** I suppose it is possible to have a game from a double header go into \"extra\" innings, which would escape this method. This method needs further work."
   ]
  },
  {
   "cell_type": "code",
   "execution_count": 5,
   "metadata": {},
   "outputs": [],
   "source": [
    "def filter_cb_games(game_data):\n",
    "    cb_games = game_data.query('Inn > 9 or Inn == 7')\n",
    "    return cb_games"
   ]
  },
  {
   "cell_type": "markdown",
   "metadata": {},
   "source": [
    "### `count_wins`\n",
    "\n",
    "This function takes a data frame that has the Calvinball information for a particular team. The `wins` variable is a data frame containing only data for when a team wins a Calvinball game. The function returns the length of the `wins` variable, which is the number of Calvinball wins."
   ]
  },
  {
   "cell_type": "code",
   "execution_count": 6,
   "metadata": {},
   "outputs": [],
   "source": [
    "def count_wins(game_data):\n",
    "    wins = game_data.query('Rec == \"W\" or Rec == \"W-wo\"')\n",
    "    return len(wins)\n"
   ]
  },
  {
   "cell_type": "markdown",
   "metadata": {},
   "source": [
    "### `count_losses`\n",
    "\n",
    "This function takes a data frame that has the Calvinball information for a particular team. The `losses` variable is a data frame containing only data for when a team loses a Calvinball game. The function returns the length of the `losses` variable, which is the number of Calvinball losses."
   ]
  },
  {
   "cell_type": "code",
   "execution_count": 7,
   "metadata": {},
   "outputs": [],
   "source": [
    "def count_losses(game_data):\n",
    "    losses = game_data.query('Rec == \"L\" or Rec == \"L-wo\"')\n",
    "    return len(losses)"
   ]
  },
  {
   "cell_type": "markdown",
   "metadata": {},
   "source": [
    "### `cb_champs`\n",
    "\n",
    "This function determines who has the best Calvinball record. The function takes a list of teams and returns a data frame. The `cb_data` variable is a data frame representing the team name, number of Calvinball wins, number of Calvinball losses, and the team's Calvinball winning percentage. The data frame is sorted (`.sort_value(by='Win %')`) in descending order (`ascending=False`) and it removes the index (`to_string(index=False)`)."
   ]
  },
  {
   "cell_type": "code",
   "execution_count": 8,
   "metadata": {},
   "outputs": [],
   "source": [
    "def cb_champs(teams):\n",
    "    cb_data = process_teams(teams)\n",
    "    return cb_data.sort_values(by='Win %', ascending=False).to_string(index=False)"
   ]
  },
  {
   "cell_type": "markdown",
   "metadata": {},
   "source": [
    "### `cb_losers`\n",
    "\n",
    "This function determines who has the worst Calvinball record. The function takes a list of teams and returns a data frame. The `cb_data` variable is a data frame representing the team name, number of Calvinball wins, number of Calvinball losses, and the team's Calvinball winning percentage. The data frame is sorted in ascending order (`.sort_value(by='Win %')`) and it removes the index (`to_string(index=False)`)."
   ]
  },
  {
   "cell_type": "code",
   "execution_count": 9,
   "metadata": {},
   "outputs": [],
   "source": [
    "def cb_losers(teams):\n",
    "    cb_data = process_teams(teams)\n",
    "    return cb_data.sort_values(by='Win %').to_string(index=False)"
   ]
  },
  {
   "cell_type": "markdown",
   "metadata": {},
   "source": [
    "## Running the Script\n",
    "\n",
    "To run the script, call either `cb_champs` or `cb_losers` and pass them one of the teams variables (`mlb`, `al`, `al_east`, `al_central`, `al_west`, `nl`, `nl_east`, `nl_central`, or `nl_west`)."
   ]
  },
  {
   "cell_type": "code",
   "execution_count": null,
   "metadata": {},
   "outputs": [],
   "source": [
    "print(cb_champs(mlb))"
   ]
  }
 ],
 "metadata": {
  "kernelspec": {
   "display_name": "Python 3",
   "language": "python",
   "name": "python3"
  },
  "language_info": {
   "codemirror_mode": {
    "name": "ipython",
    "version": 3
   },
   "file_extension": ".py",
   "mimetype": "text/x-python",
   "name": "python",
   "nbconvert_exporter": "python",
   "pygments_lexer": "ipython3",
   "version": "3.6.9"
  }
 },
 "nbformat": 4,
 "nbformat_minor": 2
}
